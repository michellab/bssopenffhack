{
 "cells": [
  {
   "cell_type": "code",
   "execution_count": 1,
   "metadata": {},
   "outputs": [
    {
     "name": "stderr",
     "output_type": "stream",
     "text": [
      "Unable to load toolkit <openforcefield.utils.toolkits.OpenEyeToolkitWrapper object at 0x116f3b438>.\n"
     ]
    }
   ],
   "source": [
    "from openforcefield.topology import Molecule\n",
    "from openforcefield.typing.engines.smirnoff import ForceField\n",
    "from simtk.openmm.app import PDBFile \n",
    "from openforcefield.topology import Topology\n",
    "from openforcefield.typing.engines.smirnoff import ForceField\n",
    "from simtk.openmm import XmlSerializer\n",
    "from pprint import pprint"
   ]
  },
  {
   "cell_type": "markdown",
   "metadata": {},
   "source": [
    "## Parametrising Ethane with SMIRNOFF and running it with BioSimSpace"
   ]
  },
  {
   "cell_type": "code",
   "execution_count": 2,
   "metadata": {},
   "outputs": [],
   "source": [
    "#mol = Molecule.from_smiles('CC')\n",
    "lig = Molecule.from_file('ethane.sdf')"
   ]
  },
  {
   "cell_type": "code",
   "execution_count": 3,
   "metadata": {},
   "outputs": [],
   "source": [
    "## needed for atom naming\n",
    "for idx, atom in enumerate(lig.atoms):\n",
    "    atom.name = f'{atom.element.symbol}{idx}'\n",
    "topology = Topology.from_molecules(lig)"
   ]
  },
  {
   "cell_type": "code",
   "execution_count": 4,
   "metadata": {},
   "outputs": [],
   "source": [
    "forcefield = ForceField('test_forcefields/smirnoff99Frosst.offxml')"
   ]
  },
  {
   "cell_type": "code",
   "execution_count": 5,
   "metadata": {},
   "outputs": [
    {
     "name": "stderr",
     "output_type": "stream",
     "text": [
      "In AmberToolsToolkitwrapper.computer_partial_charges_am1bcc: Molecule 'ethane' has more than one conformer, but this function will only generate charges for the first one.\n"
     ]
    }
   ],
   "source": [
    "openmm_system = forcefield.create_openmm_system(topology)"
   ]
  },
  {
   "cell_type": "code",
   "execution_count": 24,
   "metadata": {},
   "outputs": [],
   "source": [
    "## You can look at the XML serialised object\n",
    "#pprint(XmlSerializer.serialize(openmm_system))"
   ]
  },
  {
   "cell_type": "code",
   "execution_count": 7,
   "metadata": {},
   "outputs": [],
   "source": [
    "import parmed as pmd\n",
    "pmd_lig_struct = pmd.openmm.load_topology(topology.to_openmm(), openmm_system, lig.conformers[0])"
   ]
  },
  {
   "cell_type": "code",
   "execution_count": 8,
   "metadata": {},
   "outputs": [
    {
     "data": {
      "text/plain": [
       "<Structure 8 atoms; 1 residues; 7 bonds; parametrized>"
      ]
     },
     "execution_count": 8,
     "metadata": {},
     "output_type": "execute_result"
    }
   ],
   "source": [
    "pmd_lig_struct"
   ]
  },
  {
   "cell_type": "code",
   "execution_count": 9,
   "metadata": {},
   "outputs": [],
   "source": [
    "## only writing amber topologies files works with\n",
    "pmd_lig_struct.save(\"ethane.prmtop\", overwrite=True)\n",
    "pmd_lig_struct.save(\"ethane.inpcrd\", overwrite=True)"
   ]
  },
  {
   "cell_type": "code",
   "execution_count": 10,
   "metadata": {},
   "outputs": [
    {
     "name": "stderr",
     "output_type": "stream",
     "text": [
      "/Users/toni_brain/miniconda3/envs/BSS/lib/python3.7/importlib/_bootstrap.py:219: RuntimeWarning: to-Python converter for std::__1::vector<double, std::__1::allocator<double> > already registered; second conversion method ignored.\n",
      "  return f(*args, **kwds)\n"
     ]
    }
   ],
   "source": [
    "import BioSimSpace as BSS"
   ]
  },
  {
   "cell_type": "code",
   "execution_count": 11,
   "metadata": {},
   "outputs": [],
   "source": [
    "#Reading in files to sire\n",
    "ethane = BSS.IO.readMolecules(['ethane.prmtop','ethane.inpcrd'])"
   ]
  },
  {
   "cell_type": "code",
   "execution_count": 12,
   "metadata": {},
   "outputs": [],
   "source": [
    "#Solvate\n",
    "solv_ethane = BSS.Solvent.solvate(\"tip3p\", molecule=ethane,\n",
    "                                      box=3*[4*BSS.Units.Length.nanometer], work_dir='test')"
   ]
  },
  {
   "cell_type": "code",
   "execution_count": 17,
   "metadata": {},
   "outputs": [
    {
     "data": {
      "text/plain": [
       "['/Users/toni_brain/Projects/People/Jeff_Wagner/bssopenffhack/solvated_ethane_smirnoff.grotop',\n",
       " '/Users/toni_brain/Projects/People/Jeff_Wagner/bssopenffhack/solvated_ethane_smirnoff.gro87',\n",
       " '/Users/toni_brain/Projects/People/Jeff_Wagner/bssopenffhack/solvated_ethane_smirnoff.pdb']"
      ]
     },
     "execution_count": 17,
     "metadata": {},
     "output_type": "execute_result"
    }
   ],
   "source": [
    "#Save\n",
    "BSS.IO.saveMolecules(\"solvated_ethane_smirnoff\", solv_ethane, [\"prm7\", \"gro87\", \"pdb\"])"
   ]
  },
  {
   "cell_type": "code",
   "execution_count": 25,
   "metadata": {},
   "outputs": [],
   "source": [
    "#This will not work because of non zero net charge works on command line using maxwarn 1 though.\n",
    "protocol = BSS.Protocol.Minimisation()"
   ]
  },
  {
   "cell_type": "code",
   "execution_count": null,
   "metadata": {},
   "outputs": [],
   "source": [
    "process = BSS.MD.run(solv_ethane, protocol, work_dir='test_min')"
   ]
  },
  {
   "cell_type": "code",
   "execution_count": null,
   "metadata": {},
   "outputs": [],
   "source": []
  }
 ],
 "metadata": {
  "kernelspec": {
   "display_name": "sire_python",
   "language": "python",
   "name": "sire_python"
  },
  "language_info": {
   "codemirror_mode": {
    "name": "ipython",
    "version": 3
   },
   "file_extension": ".py",
   "mimetype": "text/x-python",
   "name": "python",
   "nbconvert_exporter": "python",
   "pygments_lexer": "ipython3",
   "version": "3.7.3"
  }
 },
 "nbformat": 4,
 "nbformat_minor": 2
}
