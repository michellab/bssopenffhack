{
 "cells": [
  {
   "cell_type": "code",
   "execution_count": 1,
   "metadata": {},
   "outputs": [],
   "source": [
    "import BioSimSpace as BSS"
   ]
  },
  {
   "cell_type": "code",
   "execution_count": 3,
   "metadata": {},
   "outputs": [],
   "source": [
    "ethane = BSS.IO.readMolecules(['../ethane.prm7','../ethane.rst7'])"
   ]
  },
  {
   "cell_type": "code",
   "execution_count": 4,
   "metadata": {},
   "outputs": [
    {
     "data": {
      "text/plain": [
       "['/Users/toni_brain/Projects/People/Jeff_Wagner/bssopenffhack/ethane_mol2.mol2']"
      ]
     },
     "execution_count": 4,
     "metadata": {},
     "output_type": "execute_result"
    }
   ],
   "source": [
    "BSS.IO.saveMolecules('ethane_mol2', ethane,\"mol2\")"
   ]
  },
  {
   "cell_type": "code",
   "execution_count": 6,
   "metadata": {},
   "outputs": [
    {
     "name": "stdout",
     "output_type": "stream",
     "text": [
      "==============================\n",
      "*** Open Babel Warning  in ReadMolecule\n",
      "  This Mol2 file is non-standard. Problem with molecule: Molecule: 1 Cannot interpret atom types correctly, instead attempting to interpret atom type: C as elements instead.\n",
      "==============================\n",
      "*** Open Babel Warning  in ReadMolecule\n",
      "  This Mol2 file is non-standard. Problem with molecule: Molecule: 1 Cannot interpret atom types correctly, instead attempting to interpret atom type: C as elements instead.\n",
      "==============================\n",
      "*** Open Babel Warning  in ReadMolecule\n",
      "  This Mol2 file is non-standard. Problem with molecule: Molecule: 1 Cannot interpret atom types correctly, instead attempting to interpret atom type: H as elements instead.\n",
      "==============================\n",
      "*** Open Babel Warning  in ReadMolecule\n",
      "  This Mol2 file is non-standard. Problem with molecule: Molecule: 1 Cannot interpret atom types correctly, instead attempting to interpret atom type: H as elements instead.\n",
      "==============================\n",
      "*** Open Babel Warning  in ReadMolecule\n",
      "  This Mol2 file is non-standard. Problem with molecule: Molecule: 1 Cannot interpret atom types correctly, instead attempting to interpret atom type: H as elements instead.\n",
      "==============================\n",
      "*** Open Babel Warning  in ReadMolecule\n",
      "  This Mol2 file is non-standard. Problem with molecule: Molecule: 1 Cannot interpret atom types correctly, instead attempting to interpret atom type: H as elements instead.\n",
      "==============================\n",
      "*** Open Babel Warning  in ReadMolecule\n",
      "  This Mol2 file is non-standard. Problem with molecule: Molecule: 1 Cannot interpret atom types correctly, instead attempting to interpret atom type: H as elements instead.\n",
      "==============================\n",
      "*** Open Babel Warning  in ReadMolecule\n",
      "  This Mol2 file is non-standard. Problem with molecule: Molecule: 1 Cannot interpret atom types correctly, instead attempting to interpret atom type: H as elements instead.\n",
      "0 molecules converted\n"
     ]
    }
   ],
   "source": [
    "!obabel -imol2 ethane_mol2.mol2 -osdf ethane.sdf"
   ]
  },
  {
   "cell_type": "code",
   "execution_count": 7,
   "metadata": {},
   "outputs": [
    {
     "name": "stdout",
     "output_type": "stream",
     "text": [
      "ethane\r\n",
      "  xed2sdf_05210316543D\r\n",
      " \r\n",
      "  8  7  0  0  0  0  0  0  0  0999 V2000\r\n",
      "   13.4850   14.3050   13.5190 C   0  0  0  0  0  0  0  0  0  0  0  0\r\n",
      "   15.0210   14.2780   13.6090 C   0  0  0  0  0  0  0  0  0  0  0  0\r\n",
      "   13.1060   13.6930   14.3400 H   0  0  0  0  0  0  0  0  0  0  0  0\r\n",
      "   13.0370   13.8620   12.6270 H   0  0  0  0  0  0  0  0  0  0  0  0\r\n",
      "   13.0690   15.3040   13.6700 H   0  0  0  0  0  0  0  0  0  0  0  0\r\n",
      "   15.5280   13.3480   13.8730 H   0  0  0  0  0  0  0  0  0  0  0  0\r\n",
      "   15.2090   14.9470   14.4520 H   0  0  0  0  0  0  0  0  0  0  0  0\r\n",
      "   15.4870   14.6930   12.7130 H   0  0  0  0  0  0  0  0  0  0  0  0\r\n",
      "  1  2  1  0\r\n",
      "  1  3  1  0\r\n",
      "  1  4  1  0\r\n",
      "  1  5  1  0\r\n",
      "  2  6  1  0\r\n",
      "  2  7  1  0\r\n",
      "  2  8  1  0\r\n",
      "M  END\r\n",
      ">  <Favorite_cresset>\r\n",
      "false\r\n",
      "\r\n",
      ">  <MW_cresset>\r\n",
      "30.1\r\n",
      "\r\n",
      ">  <#Atoms_cresset>\r\n",
      "2\r\n",
      "\r\n",
      ">  <SlogP_cresset>\r\n",
      "1\r\n",
      "\r\n",
      ">  <TPSA_cresset>\r\n",
      "0\r\n",
      "\r\n",
      ">  <Flexibility_cresset>\r\n",
      "0\r\n",
      "\r\n",
      ">  <#RB_cresset>\r\n",
      "0\r\n",
      "\r\n",
      ">  <Rof5_cresset>\r\n",
      "0\r\n",
      "\r\n",
      ">  <Filename_cresset>\r\n",
      "ethane.pdb\r\n",
      "\r\n",
      "$$$$\r\n"
     ]
    }
   ],
   "source": [
    "!cat ethane.sdf"
   ]
  },
  {
   "cell_type": "code",
   "execution_count": null,
   "metadata": {},
   "outputs": [],
   "source": []
  }
 ],
 "metadata": {
  "kernelspec": {
   "display_name": "sire_python",
   "language": "python",
   "name": "sire_python"
  },
  "language_info": {
   "codemirror_mode": {
    "name": "ipython",
    "version": 3
   },
   "file_extension": ".py",
   "mimetype": "text/x-python",
   "name": "python",
   "nbconvert_exporter": "python",
   "pygments_lexer": "ipython3",
   "version": "3.7.3"
  }
 },
 "nbformat": 4,
 "nbformat_minor": 2
}
