{
 "cells": [
  {
   "cell_type": "code",
   "execution_count": 1,
   "metadata": {},
   "outputs": [
    {
     "name": "stderr",
     "output_type": "stream",
     "text": [
      "Unable to load toolkit <openforcefield.utils.toolkits.OpenEyeToolkitWrapper object at 0x11dfa35c0>.\n"
     ]
    }
   ],
   "source": [
    "from openforcefield.topology import Molecule\n",
    "from openforcefield.typing.engines.smirnoff import ForceField\n",
    "from simtk.openmm.app import PDBFile \n",
    "from openforcefield.topology import Topology\n",
    "from openforcefield.typing.engines.smirnoff import ForceField\n",
    "from simtk.openmm import XmlSerializer\n",
    "from pprint import pprint"
   ]
  },
  {
   "cell_type": "code",
   "execution_count": 2,
   "metadata": {},
   "outputs": [],
   "source": [
    "#mol = Molecule.from_smiles('CC')\n",
    "lig = Molecule.from_file('ethane.sdf')"
   ]
  },
  {
   "cell_type": "code",
   "execution_count": 3,
   "metadata": {},
   "outputs": [],
   "source": [
    "for idx, atom in enumerate(lig.atoms):\n",
    "    atom.name = f'{atom.element.symbol}{idx}'\n",
    "topology = Topology.from_molecules(lig)"
   ]
  },
  {
   "cell_type": "code",
   "execution_count": 4,
   "metadata": {},
   "outputs": [],
   "source": [
    "forcefield = ForceField('test_forcefields/smirnoff99Frosst.offxml')"
   ]
  },
  {
   "cell_type": "code",
   "execution_count": 5,
   "metadata": {},
   "outputs": [
    {
     "name": "stderr",
     "output_type": "stream",
     "text": [
      "In AmberToolsToolkitwrapper.computer_partial_charges_am1bcc: Molecule 'ethane' has more than one conformer, but this function will only generate charges for the first one.\n"
     ]
    }
   ],
   "source": [
    "openmm_system = forcefield.create_openmm_system(topology)"
   ]
  },
  {
   "cell_type": "code",
   "execution_count": 6,
   "metadata": {},
   "outputs": [
    {
     "name": "stdout",
     "output_type": "stream",
     "text": [
      "('<?xml version=\"1.0\" ?>\\n'\n",
      " '<System openmmVersion=\"7.3.1\" type=\"System\" version=\"1\">\\n'\n",
      " '\\t<PeriodicBoxVectors>\\n'\n",
      " '\\t\\t<A x=\"2\" y=\"0\" z=\"0\"/>\\n'\n",
      " '\\t\\t<B x=\"0\" y=\"2\" z=\"0\"/>\\n'\n",
      " '\\t\\t<C x=\"0\" y=\"0\" z=\"2\"/>\\n'\n",
      " '\\t</PeriodicBoxVectors>\\n'\n",
      " '\\t<Particles>\\n'\n",
      " '\\t\\t<Particle mass=\"12.01078\"/>\\n'\n",
      " '\\t\\t<Particle mass=\"12.01078\"/>\\n'\n",
      " '\\t\\t<Particle mass=\"1.007947\"/>\\n'\n",
      " '\\t\\t<Particle mass=\"1.007947\"/>\\n'\n",
      " '\\t\\t<Particle mass=\"1.007947\"/>\\n'\n",
      " '\\t\\t<Particle mass=\"1.007947\"/>\\n'\n",
      " '\\t\\t<Particle mass=\"1.007947\"/>\\n'\n",
      " '\\t\\t<Particle mass=\"1.007947\"/>\\n'\n",
      " '\\t</Particles>\\n'\n",
      " '\\t<Constraints/>\\n'\n",
      " '\\t<Forces>\\n'\n",
      " '\\t\\t<Force alpha=\"0\" cutoff=\"1\" dispersionCorrection=\"1\" '\n",
      " 'ewaldTolerance=\".0005\" forceGroup=\"0\" ljAlpha=\"0\" ljnx=\"0\" ljny=\"0\" ljnz=\"0\" '\n",
      " 'method=\"0\" nx=\"0\" ny=\"0\" nz=\"0\" recipForceGroup=\"-1\" rfDielectric=\"78.3\" '\n",
      " 'switchingDistance=\"-1\" type=\"NonbondedForce\" useSwitchingFunction=\"0\" '\n",
      " 'version=\"3\">\\n'\n",
      " '\\t\\t\\t<GlobalParameters/>\\n'\n",
      " '\\t\\t\\t<ParticleOffsets/>\\n'\n",
      " '\\t\\t\\t<ExceptionOffsets/>\\n'\n",
      " '\\t\\t\\t<Particles>\\n'\n",
      " '\\t\\t\\t\\t<Particle eps=\".4577296\" q=\"-.0941\" sig=\".3399669508423535\"/>\\n'\n",
      " '\\t\\t\\t\\t<Particle eps=\".4577296\" q=\"-.0941\" sig=\".3399669508423535\"/>\\n'\n",
      " '\\t\\t\\t\\t<Particle eps=\".06568879999999999\" q=\".0317\" '\n",
      " 'sig=\".2649532787749369\"/>\\n'\n",
      " '\\t\\t\\t\\t<Particle eps=\".06568879999999999\" q=\".0317\" '\n",
      " 'sig=\".2649532787749369\"/>\\n'\n",
      " '\\t\\t\\t\\t<Particle eps=\".06568879999999999\" q=\".0317\" '\n",
      " 'sig=\".2649532787749369\"/>\\n'\n",
      " '\\t\\t\\t\\t<Particle eps=\".06568879999999999\" q=\".0317\" '\n",
      " 'sig=\".2649532787749369\"/>\\n'\n",
      " '\\t\\t\\t\\t<Particle eps=\".06568879999999999\" q=\".0317\" '\n",
      " 'sig=\".2649532787749369\"/>\\n'\n",
      " '\\t\\t\\t\\t<Particle eps=\".06568879999999999\" q=\".0317\" '\n",
      " 'sig=\".2649532787749369\"/>\\n'\n",
      " '\\t\\t\\t</Particles>\\n'\n",
      " '\\t\\t\\t<Exceptions>\\n'\n",
      " '\\t\\t\\t\\t<Exception eps=\"0\" p1=\"0\" p2=\"1\" q=\"0\" sig=\"1\"/>\\n'\n",
      " '\\t\\t\\t\\t<Exception eps=\"0\" p1=\"0\" p2=\"2\" q=\"0\" sig=\"1\"/>\\n'\n",
      " '\\t\\t\\t\\t<Exception eps=\"0\" p1=\"1\" p2=\"2\" q=\"0\" sig=\"1\"/>\\n'\n",
      " '\\t\\t\\t\\t<Exception eps=\"0\" p1=\"0\" p2=\"3\" q=\"0\" sig=\"1\"/>\\n'\n",
      " '\\t\\t\\t\\t<Exception eps=\"0\" p1=\"1\" p2=\"3\" q=\"0\" sig=\"1\"/>\\n'\n",
      " '\\t\\t\\t\\t<Exception eps=\"0\" p1=\"2\" p2=\"3\" q=\"0\" sig=\"1\"/>\\n'\n",
      " '\\t\\t\\t\\t<Exception eps=\"0\" p1=\"0\" p2=\"4\" q=\"0\" sig=\"1\"/>\\n'\n",
      " '\\t\\t\\t\\t<Exception eps=\"0\" p1=\"1\" p2=\"4\" q=\"0\" sig=\"1\"/>\\n'\n",
      " '\\t\\t\\t\\t<Exception eps=\"0\" p1=\"2\" p2=\"4\" q=\"0\" sig=\"1\"/>\\n'\n",
      " '\\t\\t\\t\\t<Exception eps=\"0\" p1=\"3\" p2=\"4\" q=\"0\" sig=\"1\"/>\\n'\n",
      " '\\t\\t\\t\\t<Exception eps=\"0\" p1=\"0\" p2=\"5\" q=\"0\" sig=\"1\"/>\\n'\n",
      " '\\t\\t\\t\\t<Exception eps=\"0\" p1=\"1\" p2=\"5\" q=\"0\" sig=\"1\"/>\\n'\n",
      " '\\t\\t\\t\\t<Exception eps=\".032844399999999996\" p1=\"2\" p2=\"5\" '\n",
      " 'q=\".0008374049837\" sig=\".2649532787749369\"/>\\n'\n",
      " '\\t\\t\\t\\t<Exception eps=\".032844399999999996\" p1=\"3\" p2=\"5\" '\n",
      " 'q=\".0008374049837\" sig=\".2649532787749369\"/>\\n'\n",
      " '\\t\\t\\t\\t<Exception eps=\".032844399999999996\" p1=\"4\" p2=\"5\" '\n",
      " 'q=\".0008374049837\" sig=\".2649532787749369\"/>\\n'\n",
      " '\\t\\t\\t\\t<Exception eps=\"0\" p1=\"0\" p2=\"6\" q=\"0\" sig=\"1\"/>\\n'\n",
      " '\\t\\t\\t\\t<Exception eps=\"0\" p1=\"1\" p2=\"6\" q=\"0\" sig=\"1\"/>\\n'\n",
      " '\\t\\t\\t\\t<Exception eps=\".032844399999999996\" p1=\"2\" p2=\"6\" '\n",
      " 'q=\".0008374049837\" sig=\".2649532787749369\"/>\\n'\n",
      " '\\t\\t\\t\\t<Exception eps=\".032844399999999996\" p1=\"3\" p2=\"6\" '\n",
      " 'q=\".0008374049837\" sig=\".2649532787749369\"/>\\n'\n",
      " '\\t\\t\\t\\t<Exception eps=\".032844399999999996\" p1=\"4\" p2=\"6\" '\n",
      " 'q=\".0008374049837\" sig=\".2649532787749369\"/>\\n'\n",
      " '\\t\\t\\t\\t<Exception eps=\"0\" p1=\"5\" p2=\"6\" q=\"0\" sig=\"1\"/>\\n'\n",
      " '\\t\\t\\t\\t<Exception eps=\"0\" p1=\"0\" p2=\"7\" q=\"0\" sig=\"1\"/>\\n'\n",
      " '\\t\\t\\t\\t<Exception eps=\"0\" p1=\"1\" p2=\"7\" q=\"0\" sig=\"1\"/>\\n'\n",
      " '\\t\\t\\t\\t<Exception eps=\".032844399999999996\" p1=\"2\" p2=\"7\" '\n",
      " 'q=\".0008374049837\" sig=\".2649532787749369\"/>\\n'\n",
      " '\\t\\t\\t\\t<Exception eps=\".032844399999999996\" p1=\"3\" p2=\"7\" '\n",
      " 'q=\".0008374049837\" sig=\".2649532787749369\"/>\\n'\n",
      " '\\t\\t\\t\\t<Exception eps=\".032844399999999996\" p1=\"4\" p2=\"7\" '\n",
      " 'q=\".0008374049837\" sig=\".2649532787749369\"/>\\n'\n",
      " '\\t\\t\\t\\t<Exception eps=\"0\" p1=\"5\" p2=\"7\" q=\"0\" sig=\"1\"/>\\n'\n",
      " '\\t\\t\\t\\t<Exception eps=\"0\" p1=\"6\" p2=\"7\" q=\"0\" sig=\"1\"/>\\n'\n",
      " '\\t\\t\\t</Exceptions>\\n'\n",
      " '\\t\\t</Force>\\n'\n",
      " '\\t\\t<Force forceGroup=\"0\" type=\"PeriodicTorsionForce\" usesPeriodic=\"0\" '\n",
      " 'version=\"2\">\\n'\n",
      " '\\t\\t\\t<Torsions>\\n'\n",
      " '\\t\\t\\t\\t<Torsion k=\".6276\" p1=\"2\" p2=\"0\" p3=\"1\" p4=\"5\" periodicity=\"3\" '\n",
      " 'phase=\"0\"/>\\n'\n",
      " '\\t\\t\\t\\t<Torsion k=\".6276\" p1=\"2\" p2=\"0\" p3=\"1\" p4=\"6\" periodicity=\"3\" '\n",
      " 'phase=\"0\"/>\\n'\n",
      " '\\t\\t\\t\\t<Torsion k=\".6276\" p1=\"2\" p2=\"0\" p3=\"1\" p4=\"7\" periodicity=\"3\" '\n",
      " 'phase=\"0\"/>\\n'\n",
      " '\\t\\t\\t\\t<Torsion k=\".6276\" p1=\"3\" p2=\"0\" p3=\"1\" p4=\"5\" periodicity=\"3\" '\n",
      " 'phase=\"0\"/>\\n'\n",
      " '\\t\\t\\t\\t<Torsion k=\".6276\" p1=\"3\" p2=\"0\" p3=\"1\" p4=\"6\" periodicity=\"3\" '\n",
      " 'phase=\"0\"/>\\n'\n",
      " '\\t\\t\\t\\t<Torsion k=\".6276\" p1=\"3\" p2=\"0\" p3=\"1\" p4=\"7\" periodicity=\"3\" '\n",
      " 'phase=\"0\"/>\\n'\n",
      " '\\t\\t\\t\\t<Torsion k=\".6276\" p1=\"4\" p2=\"0\" p3=\"1\" p4=\"5\" periodicity=\"3\" '\n",
      " 'phase=\"0\"/>\\n'\n",
      " '\\t\\t\\t\\t<Torsion k=\".6276\" p1=\"4\" p2=\"0\" p3=\"1\" p4=\"6\" periodicity=\"3\" '\n",
      " 'phase=\"0\"/>\\n'\n",
      " '\\t\\t\\t\\t<Torsion k=\".6276\" p1=\"4\" p2=\"0\" p3=\"1\" p4=\"7\" periodicity=\"3\" '\n",
      " 'phase=\"0\"/>\\n'\n",
      " '\\t\\t\\t</Torsions>\\n'\n",
      " '\\t\\t</Force>\\n'\n",
      " '\\t\\t<Force forceGroup=\"0\" type=\"HarmonicAngleForce\" usesPeriodic=\"0\" '\n",
      " 'version=\"2\">\\n'\n",
      " '\\t\\t\\t<Angles>\\n'\n",
      " '\\t\\t\\t\\t<Angle a=\"1.911135530933791\" k=\"418.40000000000003\" p1=\"0\" p2=\"1\" '\n",
      " 'p3=\"5\"/>\\n'\n",
      " '\\t\\t\\t\\t<Angle a=\"1.911135530933791\" k=\"418.40000000000003\" p1=\"0\" p2=\"1\" '\n",
      " 'p3=\"6\"/>\\n'\n",
      " '\\t\\t\\t\\t<Angle a=\"1.911135530933791\" k=\"418.40000000000003\" p1=\"0\" p2=\"1\" '\n",
      " 'p3=\"7\"/>\\n'\n",
      " '\\t\\t\\t\\t<Angle a=\"1.911135530933791\" k=\"418.40000000000003\" p1=\"1\" p2=\"0\" '\n",
      " 'p3=\"2\"/>\\n'\n",
      " '\\t\\t\\t\\t<Angle a=\"1.911135530933791\" k=\"418.40000000000003\" p1=\"1\" p2=\"0\" '\n",
      " 'p3=\"3\"/>\\n'\n",
      " '\\t\\t\\t\\t<Angle a=\"1.911135530933791\" k=\"418.40000000000003\" p1=\"1\" p2=\"0\" '\n",
      " 'p3=\"4\"/>\\n'\n",
      " '\\t\\t\\t\\t<Angle a=\"1.911135530933791\" k=\"292.88\" p1=\"2\" p2=\"0\" p3=\"3\"/>\\n'\n",
      " '\\t\\t\\t\\t<Angle a=\"1.911135530933791\" k=\"292.88\" p1=\"2\" p2=\"0\" p3=\"4\"/>\\n'\n",
      " '\\t\\t\\t\\t<Angle a=\"1.911135530933791\" k=\"292.88\" p1=\"3\" p2=\"0\" p3=\"4\"/>\\n'\n",
      " '\\t\\t\\t\\t<Angle a=\"1.911135530933791\" k=\"292.88\" p1=\"5\" p2=\"1\" p3=\"6\"/>\\n'\n",
      " '\\t\\t\\t\\t<Angle a=\"1.911135530933791\" k=\"292.88\" p1=\"5\" p2=\"1\" p3=\"7\"/>\\n'\n",
      " '\\t\\t\\t\\t<Angle a=\"1.911135530933791\" k=\"292.88\" p1=\"6\" p2=\"1\" p3=\"7\"/>\\n'\n",
      " '\\t\\t\\t</Angles>\\n'\n",
      " '\\t\\t</Force>\\n'\n",
      " '\\t\\t<Force forceGroup=\"0\" type=\"HarmonicBondForce\" usesPeriodic=\"0\" '\n",
      " 'version=\"2\">\\n'\n",
      " '\\t\\t\\t<Bonds>\\n'\n",
      " '\\t\\t\\t\\t<Bond d=\".1526\" k=\"259408\" p1=\"0\" p2=\"1\"/>\\n'\n",
      " '\\t\\t\\t\\t<Bond d=\".10900000000000001\" k=\"284512\" p1=\"0\" p2=\"2\"/>\\n'\n",
      " '\\t\\t\\t\\t<Bond d=\".10900000000000001\" k=\"284512\" p1=\"0\" p2=\"3\"/>\\n'\n",
      " '\\t\\t\\t\\t<Bond d=\".10900000000000001\" k=\"284512\" p1=\"0\" p2=\"4\"/>\\n'\n",
      " '\\t\\t\\t\\t<Bond d=\".10900000000000001\" k=\"284512\" p1=\"1\" p2=\"5\"/>\\n'\n",
      " '\\t\\t\\t\\t<Bond d=\".10900000000000001\" k=\"284512\" p1=\"1\" p2=\"6\"/>\\n'\n",
      " '\\t\\t\\t\\t<Bond d=\".10900000000000001\" k=\"284512\" p1=\"1\" p2=\"7\"/>\\n'\n",
      " '\\t\\t\\t</Bonds>\\n'\n",
      " '\\t\\t</Force>\\n'\n",
      " '\\t</Forces>\\n'\n",
      " '</System>\\n')\n"
     ]
    }
   ],
   "source": [
    "\n",
    "pprint(XmlSerializer.serialize(openmm_system))"
   ]
  },
  {
   "cell_type": "code",
   "execution_count": 7,
   "metadata": {},
   "outputs": [],
   "source": [
    "import parmed as pmd\n",
    "pmd_lig_struct = pmd.openmm.load_topology(topology.to_openmm(), openmm_system, lig.conformers[0])"
   ]
  },
  {
   "cell_type": "code",
   "execution_count": 8,
   "metadata": {},
   "outputs": [
    {
     "data": {
      "text/plain": [
       "<Structure 8 atoms; 1 residues; 7 bonds; parametrized>"
      ]
     },
     "execution_count": 8,
     "metadata": {},
     "output_type": "execute_result"
    }
   ],
   "source": [
    "pmd_lig_struct"
   ]
  },
  {
   "cell_type": "code",
   "execution_count": 9,
   "metadata": {},
   "outputs": [],
   "source": [
    "pmd_lig_struct.save(\"ethane.prmtop\", overwrite=True)\n",
    "pmd_lig_struct.save(\"ethane.inpcrd\", overwrite=True)"
   ]
  },
  {
   "cell_type": "code",
   "execution_count": 10,
   "metadata": {},
   "outputs": [
    {
     "name": "stderr",
     "output_type": "stream",
     "text": [
      "/Users/toni_brain/miniconda3/envs/BSS/lib/python3.7/importlib/_bootstrap.py:219: RuntimeWarning: to-Python converter for std::__1::vector<double, std::__1::allocator<double> > already registered; second conversion method ignored.\n",
      "  return f(*args, **kwds)\n"
     ]
    }
   ],
   "source": [
    "import BioSimSpace as BSS"
   ]
  },
  {
   "cell_type": "code",
   "execution_count": 11,
   "metadata": {},
   "outputs": [],
   "source": [
    "ethane = BSS.IO.readMolecules(['ethane.prmtop','ethane.inpcrd'])"
   ]
  },
  {
   "cell_type": "code",
   "execution_count": 12,
   "metadata": {},
   "outputs": [],
   "source": [
    "solv_ethane = BSS.Solvent.solvate(\"tip3p\", molecule=ethane,\n",
    "                                      box=3*[4*BSS.Units.Length.nanometer], work_dir='test')"
   ]
  },
  {
   "cell_type": "code",
   "execution_count": 13,
   "metadata": {},
   "outputs": [
    {
     "data": {
      "text/plain": [
       "['/Users/toni_brain/Projects/People/Jeff_Wagner/bssopenffhack/solvated_ethane_smirnoff.grotop',\n",
       " '/Users/toni_brain/Projects/People/Jeff_Wagner/bssopenffhack/solvated_ethane_smirnoff.gro87']"
      ]
     },
     "execution_count": 13,
     "metadata": {},
     "output_type": "execute_result"
    }
   ],
   "source": [
    "BSS.IO.saveMolecules(\"solvated_ethane_smirnoff\", solv_ethane, [\"grotop\", \"gro87\"])"
   ]
  },
  {
   "cell_type": "code",
   "execution_count": 14,
   "metadata": {},
   "outputs": [
    {
     "name": "stdout",
     "output_type": "stream",
     "text": [
      "Reading molecules from '['solvated_ethane_smirnoff.grotop', 'solvated_ethane_smirnoff.gro87']'\n",
      "Rendering the molecules...\n"
     ]
    },
    {
     "data": {
      "application/vnd.jupyter.widget-view+json": {
       "model_id": "1639e1459a804c9ea172759db003a7e5",
       "version_major": 2,
       "version_minor": 0
      },
      "text/plain": [
       "_ColormakerRegistry()"
      ]
     },
     "metadata": {},
     "output_type": "display_data"
    },
    {
     "data": {
      "application/vnd.jupyter.widget-view+json": {
       "model_id": "2610496a411941f6a83a3ff7f4c1dc87",
       "version_major": 2,
       "version_minor": 0
      },
      "text/plain": [
       "ThemeManager()"
      ]
     },
     "metadata": {},
     "output_type": "display_data"
    },
    {
     "data": {
      "text/plain": [
       "<BioSimSpace.Notebook._view.View at 0x12b71f048>"
      ]
     },
     "execution_count": 14,
     "metadata": {},
     "output_type": "execute_result"
    }
   ],
   "source": [
    "BSS.viewMolecules([\"solvated_ethane_smirnoff.grotop\",\"solvated_ethane_smirnoff.gro87\"])"
   ]
  },
  {
   "cell_type": "code",
   "execution_count": 19,
   "metadata": {},
   "outputs": [
    {
     "data": {
      "text/plain": [
       "['/Users/toni_brain/Projects/People/Jeff_Wagner/bssopenffhack/ethane_from_parm.grotop',\n",
       " '/Users/toni_brain/Projects/People/Jeff_Wagner/bssopenffhack/ethane_from_parm.gro87']"
      ]
     },
     "execution_count": 19,
     "metadata": {},
     "output_type": "execute_result"
    }
   ],
   "source": [
    "BSS.IO.saveMolecules(\"ethane_from_parm\", ethane, ['grotop', 'gro87'])"
   ]
  },
  {
   "cell_type": "code",
   "execution_count": null,
   "metadata": {},
   "outputs": [],
   "source": []
  }
 ],
 "metadata": {
  "kernelspec": {
   "display_name": "sire_python",
   "language": "python",
   "name": "sire_python"
  },
  "language_info": {
   "codemirror_mode": {
    "name": "ipython",
    "version": 3
   },
   "file_extension": ".py",
   "mimetype": "text/x-python",
   "name": "python",
   "nbconvert_exporter": "python",
   "pygments_lexer": "ipython3",
   "version": "3.7.3"
  }
 },
 "nbformat": 4,
 "nbformat_minor": 2
}
