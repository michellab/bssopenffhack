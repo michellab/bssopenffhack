{
 "cells": [
  {
   "cell_type": "code",
   "execution_count": 1,
   "metadata": {},
   "outputs": [
    {
     "name": "stderr",
     "output_type": "stream",
     "text": [
      "Unable to load toolkit <openforcefield.utils.toolkits.OpenEyeToolkitWrapper object at 0x117123470>.\n"
     ]
    }
   ],
   "source": [
    "from openforcefield.topology import Molecule\n",
    "from openforcefield.typing.engines.smirnoff import ForceField\n",
    "from simtk.openmm.app import PDBFile \n",
    "from openforcefield.topology import Topology\n",
    "from openforcefield.typing.engines.smirnoff import ForceField\n",
    "from simtk.openmm import XmlSerializer\n",
    "from pprint import pprint"
   ]
  },
  {
   "cell_type": "code",
   "execution_count": 2,
   "metadata": {},
   "outputs": [],
   "source": [
    "#mol = Molecule.from_smiles('CC')\n",
    "mol2_file = Molecule.from_file('ethane.sdf')"
   ]
  },
  {
   "cell_type": "code",
   "execution_count": 3,
   "metadata": {},
   "outputs": [],
   "source": [
    "\n",
    "topology = Topology.from_molecules(mol2_file)"
   ]
  },
  {
   "cell_type": "code",
   "execution_count": 4,
   "metadata": {},
   "outputs": [],
   "source": [
    "\n",
    "forcefield = ForceField('test_forcefields/smirnoff99Frosst.offxml')"
   ]
  },
  {
   "cell_type": "code",
   "execution_count": 5,
   "metadata": {},
   "outputs": [
    {
     "name": "stderr",
     "output_type": "stream",
     "text": [
      "In AmberToolsToolkitwrapper.computer_partial_charges_am1bcc: Molecule 'ethane' has more than one conformer, but this function will only generate charges for the first one.\n"
     ]
    }
   ],
   "source": [
    "openmm_system = forcefield.create_openmm_system(topology)"
   ]
  },
  {
   "cell_type": "code",
   "execution_count": 6,
   "metadata": {},
   "outputs": [
    {
     "name": "stdout",
     "output_type": "stream",
     "text": [
      "('<?xml version=\"1.0\" ?>\\n'\n",
      " '<System openmmVersion=\"7.3.1\" type=\"System\" version=\"1\">\\n'\n",
      " '\\t<PeriodicBoxVectors>\\n'\n",
      " '\\t\\t<A x=\"2\" y=\"0\" z=\"0\"/>\\n'\n",
      " '\\t\\t<B x=\"0\" y=\"2\" z=\"0\"/>\\n'\n",
      " '\\t\\t<C x=\"0\" y=\"0\" z=\"2\"/>\\n'\n",
      " '\\t</PeriodicBoxVectors>\\n'\n",
      " '\\t<Particles>\\n'\n",
      " '\\t\\t<Particle mass=\"12.01078\"/>\\n'\n",
      " '\\t\\t<Particle mass=\"12.01078\"/>\\n'\n",
      " '\\t\\t<Particle mass=\"1.007947\"/>\\n'\n",
      " '\\t\\t<Particle mass=\"1.007947\"/>\\n'\n",
      " '\\t\\t<Particle mass=\"1.007947\"/>\\n'\n",
      " '\\t\\t<Particle mass=\"1.007947\"/>\\n'\n",
      " '\\t\\t<Particle mass=\"1.007947\"/>\\n'\n",
      " '\\t\\t<Particle mass=\"1.007947\"/>\\n'\n",
      " '\\t</Particles>\\n'\n",
      " '\\t<Constraints/>\\n'\n",
      " '\\t<Forces>\\n'\n",
      " '\\t\\t<Force alpha=\"0\" cutoff=\"1\" dispersionCorrection=\"1\" '\n",
      " 'ewaldTolerance=\".0005\" forceGroup=\"0\" ljAlpha=\"0\" ljnx=\"0\" ljny=\"0\" ljnz=\"0\" '\n",
      " 'method=\"0\" nx=\"0\" ny=\"0\" nz=\"0\" recipForceGroup=\"-1\" rfDielectric=\"78.3\" '\n",
      " 'switchingDistance=\"-1\" type=\"NonbondedForce\" useSwitchingFunction=\"0\" '\n",
      " 'version=\"3\">\\n'\n",
      " '\\t\\t\\t<GlobalParameters/>\\n'\n",
      " '\\t\\t\\t<ParticleOffsets/>\\n'\n",
      " '\\t\\t\\t<ExceptionOffsets/>\\n'\n",
      " '\\t\\t\\t<Particles>\\n'\n",
      " '\\t\\t\\t\\t<Particle eps=\".4577296\" q=\"-.0941\" sig=\".3399669508423535\"/>\\n'\n",
      " '\\t\\t\\t\\t<Particle eps=\".4577296\" q=\"-.0941\" sig=\".3399669508423535\"/>\\n'\n",
      " '\\t\\t\\t\\t<Particle eps=\".06568879999999999\" q=\".0317\" '\n",
      " 'sig=\".2649532787749369\"/>\\n'\n",
      " '\\t\\t\\t\\t<Particle eps=\".06568879999999999\" q=\".0317\" '\n",
      " 'sig=\".2649532787749369\"/>\\n'\n",
      " '\\t\\t\\t\\t<Particle eps=\".06568879999999999\" q=\".0317\" '\n",
      " 'sig=\".2649532787749369\"/>\\n'\n",
      " '\\t\\t\\t\\t<Particle eps=\".06568879999999999\" q=\".0317\" '\n",
      " 'sig=\".2649532787749369\"/>\\n'\n",
      " '\\t\\t\\t\\t<Particle eps=\".06568879999999999\" q=\".0317\" '\n",
      " 'sig=\".2649532787749369\"/>\\n'\n",
      " '\\t\\t\\t\\t<Particle eps=\".06568879999999999\" q=\".0317\" '\n",
      " 'sig=\".2649532787749369\"/>\\n'\n",
      " '\\t\\t\\t</Particles>\\n'\n",
      " '\\t\\t\\t<Exceptions>\\n'\n",
      " '\\t\\t\\t\\t<Exception eps=\"0\" p1=\"0\" p2=\"1\" q=\"0\" sig=\"1\"/>\\n'\n",
      " '\\t\\t\\t\\t<Exception eps=\"0\" p1=\"0\" p2=\"2\" q=\"0\" sig=\"1\"/>\\n'\n",
      " '\\t\\t\\t\\t<Exception eps=\"0\" p1=\"1\" p2=\"2\" q=\"0\" sig=\"1\"/>\\n'\n",
      " '\\t\\t\\t\\t<Exception eps=\"0\" p1=\"0\" p2=\"3\" q=\"0\" sig=\"1\"/>\\n'\n",
      " '\\t\\t\\t\\t<Exception eps=\"0\" p1=\"1\" p2=\"3\" q=\"0\" sig=\"1\"/>\\n'\n",
      " '\\t\\t\\t\\t<Exception eps=\"0\" p1=\"2\" p2=\"3\" q=\"0\" sig=\"1\"/>\\n'\n",
      " '\\t\\t\\t\\t<Exception eps=\"0\" p1=\"0\" p2=\"4\" q=\"0\" sig=\"1\"/>\\n'\n",
      " '\\t\\t\\t\\t<Exception eps=\"0\" p1=\"1\" p2=\"4\" q=\"0\" sig=\"1\"/>\\n'\n",
      " '\\t\\t\\t\\t<Exception eps=\"0\" p1=\"2\" p2=\"4\" q=\"0\" sig=\"1\"/>\\n'\n",
      " '\\t\\t\\t\\t<Exception eps=\"0\" p1=\"3\" p2=\"4\" q=\"0\" sig=\"1\"/>\\n'\n",
      " '\\t\\t\\t\\t<Exception eps=\"0\" p1=\"0\" p2=\"5\" q=\"0\" sig=\"1\"/>\\n'\n",
      " '\\t\\t\\t\\t<Exception eps=\"0\" p1=\"1\" p2=\"5\" q=\"0\" sig=\"1\"/>\\n'\n",
      " '\\t\\t\\t\\t<Exception eps=\".032844399999999996\" p1=\"2\" p2=\"5\" '\n",
      " 'q=\".0008374049837\" sig=\".2649532787749369\"/>\\n'\n",
      " '\\t\\t\\t\\t<Exception eps=\".032844399999999996\" p1=\"3\" p2=\"5\" '\n",
      " 'q=\".0008374049837\" sig=\".2649532787749369\"/>\\n'\n",
      " '\\t\\t\\t\\t<Exception eps=\".032844399999999996\" p1=\"4\" p2=\"5\" '\n",
      " 'q=\".0008374049837\" sig=\".2649532787749369\"/>\\n'\n",
      " '\\t\\t\\t\\t<Exception eps=\"0\" p1=\"0\" p2=\"6\" q=\"0\" sig=\"1\"/>\\n'\n",
      " '\\t\\t\\t\\t<Exception eps=\"0\" p1=\"1\" p2=\"6\" q=\"0\" sig=\"1\"/>\\n'\n",
      " '\\t\\t\\t\\t<Exception eps=\".032844399999999996\" p1=\"2\" p2=\"6\" '\n",
      " 'q=\".0008374049837\" sig=\".2649532787749369\"/>\\n'\n",
      " '\\t\\t\\t\\t<Exception eps=\".032844399999999996\" p1=\"3\" p2=\"6\" '\n",
      " 'q=\".0008374049837\" sig=\".2649532787749369\"/>\\n'\n",
      " '\\t\\t\\t\\t<Exception eps=\".032844399999999996\" p1=\"4\" p2=\"6\" '\n",
      " 'q=\".0008374049837\" sig=\".2649532787749369\"/>\\n'\n",
      " '\\t\\t\\t\\t<Exception eps=\"0\" p1=\"5\" p2=\"6\" q=\"0\" sig=\"1\"/>\\n'\n",
      " '\\t\\t\\t\\t<Exception eps=\"0\" p1=\"0\" p2=\"7\" q=\"0\" sig=\"1\"/>\\n'\n",
      " '\\t\\t\\t\\t<Exception eps=\"0\" p1=\"1\" p2=\"7\" q=\"0\" sig=\"1\"/>\\n'\n",
      " '\\t\\t\\t\\t<Exception eps=\".032844399999999996\" p1=\"2\" p2=\"7\" '\n",
      " 'q=\".0008374049837\" sig=\".2649532787749369\"/>\\n'\n",
      " '\\t\\t\\t\\t<Exception eps=\".032844399999999996\" p1=\"3\" p2=\"7\" '\n",
      " 'q=\".0008374049837\" sig=\".2649532787749369\"/>\\n'\n",
      " '\\t\\t\\t\\t<Exception eps=\".032844399999999996\" p1=\"4\" p2=\"7\" '\n",
      " 'q=\".0008374049837\" sig=\".2649532787749369\"/>\\n'\n",
      " '\\t\\t\\t\\t<Exception eps=\"0\" p1=\"5\" p2=\"7\" q=\"0\" sig=\"1\"/>\\n'\n",
      " '\\t\\t\\t\\t<Exception eps=\"0\" p1=\"6\" p2=\"7\" q=\"0\" sig=\"1\"/>\\n'\n",
      " '\\t\\t\\t</Exceptions>\\n'\n",
      " '\\t\\t</Force>\\n'\n",
      " '\\t\\t<Force forceGroup=\"0\" type=\"PeriodicTorsionForce\" usesPeriodic=\"0\" '\n",
      " 'version=\"2\">\\n'\n",
      " '\\t\\t\\t<Torsions>\\n'\n",
      " '\\t\\t\\t\\t<Torsion k=\".6276\" p1=\"2\" p2=\"0\" p3=\"1\" p4=\"5\" periodicity=\"3\" '\n",
      " 'phase=\"0\"/>\\n'\n",
      " '\\t\\t\\t\\t<Torsion k=\".6276\" p1=\"2\" p2=\"0\" p3=\"1\" p4=\"6\" periodicity=\"3\" '\n",
      " 'phase=\"0\"/>\\n'\n",
      " '\\t\\t\\t\\t<Torsion k=\".6276\" p1=\"2\" p2=\"0\" p3=\"1\" p4=\"7\" periodicity=\"3\" '\n",
      " 'phase=\"0\"/>\\n'\n",
      " '\\t\\t\\t\\t<Torsion k=\".6276\" p1=\"3\" p2=\"0\" p3=\"1\" p4=\"5\" periodicity=\"3\" '\n",
      " 'phase=\"0\"/>\\n'\n",
      " '\\t\\t\\t\\t<Torsion k=\".6276\" p1=\"3\" p2=\"0\" p3=\"1\" p4=\"6\" periodicity=\"3\" '\n",
      " 'phase=\"0\"/>\\n'\n",
      " '\\t\\t\\t\\t<Torsion k=\".6276\" p1=\"3\" p2=\"0\" p3=\"1\" p4=\"7\" periodicity=\"3\" '\n",
      " 'phase=\"0\"/>\\n'\n",
      " '\\t\\t\\t\\t<Torsion k=\".6276\" p1=\"4\" p2=\"0\" p3=\"1\" p4=\"5\" periodicity=\"3\" '\n",
      " 'phase=\"0\"/>\\n'\n",
      " '\\t\\t\\t\\t<Torsion k=\".6276\" p1=\"4\" p2=\"0\" p3=\"1\" p4=\"6\" periodicity=\"3\" '\n",
      " 'phase=\"0\"/>\\n'\n",
      " '\\t\\t\\t\\t<Torsion k=\".6276\" p1=\"4\" p2=\"0\" p3=\"1\" p4=\"7\" periodicity=\"3\" '\n",
      " 'phase=\"0\"/>\\n'\n",
      " '\\t\\t\\t</Torsions>\\n'\n",
      " '\\t\\t</Force>\\n'\n",
      " '\\t\\t<Force forceGroup=\"0\" type=\"HarmonicAngleForce\" usesPeriodic=\"0\" '\n",
      " 'version=\"2\">\\n'\n",
      " '\\t\\t\\t<Angles>\\n'\n",
      " '\\t\\t\\t\\t<Angle a=\"1.911135530933791\" k=\"418.40000000000003\" p1=\"0\" p2=\"1\" '\n",
      " 'p3=\"5\"/>\\n'\n",
      " '\\t\\t\\t\\t<Angle a=\"1.911135530933791\" k=\"418.40000000000003\" p1=\"0\" p2=\"1\" '\n",
      " 'p3=\"6\"/>\\n'\n",
      " '\\t\\t\\t\\t<Angle a=\"1.911135530933791\" k=\"418.40000000000003\" p1=\"0\" p2=\"1\" '\n",
      " 'p3=\"7\"/>\\n'\n",
      " '\\t\\t\\t\\t<Angle a=\"1.911135530933791\" k=\"418.40000000000003\" p1=\"1\" p2=\"0\" '\n",
      " 'p3=\"2\"/>\\n'\n",
      " '\\t\\t\\t\\t<Angle a=\"1.911135530933791\" k=\"418.40000000000003\" p1=\"1\" p2=\"0\" '\n",
      " 'p3=\"3\"/>\\n'\n",
      " '\\t\\t\\t\\t<Angle a=\"1.911135530933791\" k=\"418.40000000000003\" p1=\"1\" p2=\"0\" '\n",
      " 'p3=\"4\"/>\\n'\n",
      " '\\t\\t\\t\\t<Angle a=\"1.911135530933791\" k=\"292.88\" p1=\"2\" p2=\"0\" p3=\"3\"/>\\n'\n",
      " '\\t\\t\\t\\t<Angle a=\"1.911135530933791\" k=\"292.88\" p1=\"2\" p2=\"0\" p3=\"4\"/>\\n'\n",
      " '\\t\\t\\t\\t<Angle a=\"1.911135530933791\" k=\"292.88\" p1=\"3\" p2=\"0\" p3=\"4\"/>\\n'\n",
      " '\\t\\t\\t\\t<Angle a=\"1.911135530933791\" k=\"292.88\" p1=\"5\" p2=\"1\" p3=\"6\"/>\\n'\n",
      " '\\t\\t\\t\\t<Angle a=\"1.911135530933791\" k=\"292.88\" p1=\"5\" p2=\"1\" p3=\"7\"/>\\n'\n",
      " '\\t\\t\\t\\t<Angle a=\"1.911135530933791\" k=\"292.88\" p1=\"6\" p2=\"1\" p3=\"7\"/>\\n'\n",
      " '\\t\\t\\t</Angles>\\n'\n",
      " '\\t\\t</Force>\\n'\n",
      " '\\t\\t<Force forceGroup=\"0\" type=\"HarmonicBondForce\" usesPeriodic=\"0\" '\n",
      " 'version=\"2\">\\n'\n",
      " '\\t\\t\\t<Bonds>\\n'\n",
      " '\\t\\t\\t\\t<Bond d=\".1526\" k=\"259408\" p1=\"0\" p2=\"1\"/>\\n'\n",
      " '\\t\\t\\t\\t<Bond d=\".10900000000000001\" k=\"284512\" p1=\"0\" p2=\"2\"/>\\n'\n",
      " '\\t\\t\\t\\t<Bond d=\".10900000000000001\" k=\"284512\" p1=\"0\" p2=\"3\"/>\\n'\n",
      " '\\t\\t\\t\\t<Bond d=\".10900000000000001\" k=\"284512\" p1=\"0\" p2=\"4\"/>\\n'\n",
      " '\\t\\t\\t\\t<Bond d=\".10900000000000001\" k=\"284512\" p1=\"1\" p2=\"5\"/>\\n'\n",
      " '\\t\\t\\t\\t<Bond d=\".10900000000000001\" k=\"284512\" p1=\"1\" p2=\"6\"/>\\n'\n",
      " '\\t\\t\\t\\t<Bond d=\".10900000000000001\" k=\"284512\" p1=\"1\" p2=\"7\"/>\\n'\n",
      " '\\t\\t\\t</Bonds>\\n'\n",
      " '\\t\\t</Force>\\n'\n",
      " '\\t</Forces>\\n'\n",
      " '</System>\\n')\n"
     ]
    }
   ],
   "source": [
    "\n",
    "pprint(XmlSerializer.serialize(openmm_system))"
   ]
  },
  {
   "cell_type": "code",
   "execution_count": 7,
   "metadata": {},
   "outputs": [],
   "source": [
    "import parmed as pmd\n",
    "pmd_lig_struct = pmd.openmm.load_topology(topology.to_openmm(), openmm_system, mol2_file.conformers[0])"
   ]
  },
  {
   "cell_type": "code",
   "execution_count": 8,
   "metadata": {},
   "outputs": [
    {
     "data": {
      "text/plain": [
       "<Structure 8 atoms; 1 residues; 7 bonds; parametrized>"
      ]
     },
     "execution_count": 8,
     "metadata": {},
     "output_type": "execute_result"
    }
   ],
   "source": [
    "pmd_lig_struct"
   ]
  },
  {
   "cell_type": "code",
   "execution_count": 20,
   "metadata": {},
   "outputs": [],
   "source": [
    "pmd_lig_struct.save(\"ethane.prmtop\")\n",
    "pmd_lig_struct.save(\"ethane.inpcrd\")"
   ]
  },
  {
   "cell_type": "code",
   "execution_count": 10,
   "metadata": {},
   "outputs": [
    {
     "name": "stderr",
     "output_type": "stream",
     "text": [
      "/Users/toni_brain/miniconda3/envs/BSS/lib/python3.7/importlib/_bootstrap.py:219: RuntimeWarning: to-Python converter for std::__1::vector<double, std::__1::allocator<double> > already registered; second conversion method ignored.\n",
      "  return f(*args, **kwds)\n"
     ]
    }
   ],
   "source": [
    "import BioSimSpace as BSS"
   ]
  },
  {
   "cell_type": "code",
   "execution_count": 21,
   "metadata": {},
   "outputs": [],
   "source": [
    "ethane = BSS.IO.readMolecules(['ethane.prmtop','ethane.inpcrd'])"
   ]
  },
  {
   "cell_type": "code",
   "execution_count": 27,
   "metadata": {},
   "outputs": [
    {
     "ename": "RuntimeError",
     "evalue": "'gmx grommp' failed to generate output! Perhaps your box is too small?",
     "output_type": "error",
     "traceback": [
      "\u001b[0;31m---------------------------------------------------------------------------\u001b[0m",
      "\u001b[0;31mRuntimeError\u001b[0m                              Traceback (most recent call last)",
      "\u001b[0;32m<ipython-input-27-bbd84abed2a6>\u001b[0m in \u001b[0;36m<module>\u001b[0;34m\u001b[0m\n\u001b[1;32m      1\u001b[0m solv_ethane = BSS.Solvent.solvate(\"tip3p\", molecule=ethane,\n\u001b[0;32m----> 2\u001b[0;31m                                       box=3*[4*BSS.Units.Length.nanometer], work_dir='test')\n\u001b[0m",
      "\u001b[0;32m~/miniconda3/envs/BSS/lib/python3.7/site-packages/BioSimSpace/Solvent/_solvent.py\u001b[0m in \u001b[0;36msolvate\u001b[0;34m(model, molecule, box, shell, ion_conc, is_neutral, work_dir, property_map)\u001b[0m\n\u001b[1;32m    106\u001b[0m             \u001b[0;32mraise\u001b[0m \u001b[0mValueError\u001b[0m\u001b[0;34m(\u001b[0m\u001b[0;34m\"Supported water models are: %s\"\u001b[0m \u001b[0;34m%\u001b[0m \u001b[0mwaterModels\u001b[0m\u001b[0;34m(\u001b[0m\u001b[0;34m)\u001b[0m\u001b[0;34m)\u001b[0m\u001b[0;34m\u001b[0m\u001b[0;34m\u001b[0m\u001b[0m\n\u001b[1;32m    107\u001b[0m \u001b[0;34m\u001b[0m\u001b[0m\n\u001b[0;32m--> 108\u001b[0;31m     \u001b[0;32mreturn\u001b[0m \u001b[0m_model_dict\u001b[0m\u001b[0;34m[\u001b[0m\u001b[0mmodel\u001b[0m\u001b[0;34m]\u001b[0m\u001b[0;34m(\u001b[0m\u001b[0mmolecule\u001b[0m\u001b[0;34m,\u001b[0m \u001b[0mbox\u001b[0m\u001b[0;34m,\u001b[0m \u001b[0mshell\u001b[0m\u001b[0;34m,\u001b[0m \u001b[0mion_conc\u001b[0m\u001b[0;34m,\u001b[0m \u001b[0mis_neutral\u001b[0m\u001b[0;34m,\u001b[0m \u001b[0mwork_dir\u001b[0m\u001b[0;34m,\u001b[0m \u001b[0mproperty_map\u001b[0m\u001b[0;34m)\u001b[0m\u001b[0;34m\u001b[0m\u001b[0;34m\u001b[0m\u001b[0m\n\u001b[0m\u001b[1;32m    109\u001b[0m \u001b[0;34m\u001b[0m\u001b[0m\n\u001b[1;32m    110\u001b[0m def spc(molecule=None, box=None, shell=None, ion_conc=0,\n",
      "\u001b[0;32m~/miniconda3/envs/BSS/lib/python3.7/site-packages/BioSimSpace/Solvent/_solvent.py\u001b[0m in \u001b[0;36mtip3p\u001b[0;34m(molecule, box, shell, ion_conc, is_neutral, work_dir, property_map)\u001b[0m\n\u001b[1;32m    264\u001b[0m     \u001b[0;31m# Create the solvated system.\u001b[0m\u001b[0;34m\u001b[0m\u001b[0;34m\u001b[0m\u001b[0;34m\u001b[0m\u001b[0m\n\u001b[1;32m    265\u001b[0m     return _solvate(molecule, box, shell, \"tip3p\", 3, ion_conc,\n\u001b[0;32m--> 266\u001b[0;31m             is_neutral, work_dir=work_dir, property_map=property_map)\n\u001b[0m\u001b[1;32m    267\u001b[0m \u001b[0;34m\u001b[0m\u001b[0m\n\u001b[1;32m    268\u001b[0m def tip4p(molecule=None, box=None, shell=None, ion_conc=0,\n",
      "\u001b[0;32m~/miniconda3/envs/BSS/lib/python3.7/site-packages/BioSimSpace/Solvent/_solvent.py\u001b[0m in \u001b[0;36m_solvate\u001b[0;34m(molecule, box, shell, model, num_point, ion_conc, is_neutral, work_dir, property_map)\u001b[0m\n\u001b[1;32m    753\u001b[0m             \u001b[0;32mif\u001b[0m \u001b[0;32mnot\u001b[0m \u001b[0m_os\u001b[0m\u001b[0;34m.\u001b[0m\u001b[0mpath\u001b[0m\u001b[0;34m.\u001b[0m\u001b[0misfile\u001b[0m\u001b[0;34m(\u001b[0m\u001b[0;34m\"ions.tpr\"\u001b[0m\u001b[0;34m)\u001b[0m\u001b[0;34m:\u001b[0m\u001b[0;34m\u001b[0m\u001b[0;34m\u001b[0m\u001b[0m\n\u001b[1;32m    754\u001b[0m                 \u001b[0;32mif\u001b[0m \u001b[0mshell\u001b[0m \u001b[0;32mis\u001b[0m \u001b[0;32mNone\u001b[0m\u001b[0;34m:\u001b[0m\u001b[0;34m\u001b[0m\u001b[0;34m\u001b[0m\u001b[0m\n\u001b[0;32m--> 755\u001b[0;31m                     raise RuntimeError(\"'gmx grommp' failed to generate output! \"\n\u001b[0m\u001b[1;32m    756\u001b[0m                                        \"Perhaps your box is too small?\")\n\u001b[1;32m    757\u001b[0m                 \u001b[0;32melse\u001b[0m\u001b[0;34m:\u001b[0m\u001b[0;34m\u001b[0m\u001b[0;34m\u001b[0m\u001b[0m\n",
      "\u001b[0;31mRuntimeError\u001b[0m: 'gmx grommp' failed to generate output! Perhaps your box is too small?"
     ]
    }
   ],
   "source": [
    "solv_ethane = BSS.Solvent.solvate(\"tip3p\", molecule=ethane,\n",
    "                                      box=3*[4*BSS.Units.Length.nanometer], work_dir='test')"
   ]
  },
  {
   "cell_type": "code",
   "execution_count": 18,
   "metadata": {},
   "outputs": [],
   "source": [
    "ethane = BSS.IO.readMolecules(['../ethane.prm7','../ethane.rst7'])"
   ]
  },
  {
   "cell_type": "code",
   "execution_count": 19,
   "metadata": {},
   "outputs": [
    {
     "data": {
      "text/plain": [
       "['/Users/toni_brain/Projects/People/Jeff_Wagner/bssopenffhack/ethane_from_parm.grotop',\n",
       " '/Users/toni_brain/Projects/People/Jeff_Wagner/bssopenffhack/ethane_from_parm.gro87']"
      ]
     },
     "execution_count": 19,
     "metadata": {},
     "output_type": "execute_result"
    }
   ],
   "source": [
    "BSS.IO.saveMolecules(\"ethane_from_parm\", ethane, ['grotop', 'gro87'])"
   ]
  },
  {
   "cell_type": "code",
   "execution_count": null,
   "metadata": {},
   "outputs": [],
   "source": []
  }
 ],
 "metadata": {
  "kernelspec": {
   "display_name": "sire_python",
   "language": "python",
   "name": "sire_python"
  },
  "language_info": {
   "codemirror_mode": {
    "name": "ipython",
    "version": 3
   },
   "file_extension": ".py",
   "mimetype": "text/x-python",
   "name": "python",
   "nbconvert_exporter": "python",
   "pygments_lexer": "ipython3",
   "version": "3.7.3"
  }
 },
 "nbformat": 4,
 "nbformat_minor": 2
}
